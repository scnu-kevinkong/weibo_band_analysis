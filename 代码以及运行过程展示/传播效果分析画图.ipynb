{
 "cells": [
  {
   "cell_type": "code",
   "execution_count": 16,
   "outputs": [],
   "source": [
    "import pandas as pd"
   ],
   "metadata": {
    "collapsed": false
   }
  },
  {
   "cell_type": "code",
   "execution_count": 70,
   "outputs": [
    {
     "data": {
      "text/plain": "     parent_comment_id         comment_id         comment_time  \\\n0                  NaN  c4952329327215306  2023-10-02 09:39:44   \n1                  NaN  c4952377574295482  2023-10-02 12:51:27   \n2                  NaN  c4952341042171844  2023-10-02 10:26:17   \n3                  NaN  c4952496412558463  2023-10-02 20:43:39   \n4                  NaN  c4952436315000296  2023-10-02 16:44:52   \n..                 ...                ...                  ...   \n266                NaN  c4953016727242525  2023-10-04 07:11:13   \n267                NaN  c4952869214625706  2023-10-03 21:25:03   \n268                NaN  c4952758392717823  2023-10-03 14:04:40   \n269                NaN  c4952719325401258  2023-10-03 11:29:27   \n270                NaN  c4952696600921638  2023-10-03 09:59:09   \n\n    comment_location comment_user_name                comment_user_link  \\\n0               来自江西        古今惟一状元驸马郑颢  https://weibo.com//u/5356853777   \n1               来自新疆          苏下下喜欢吃青椒  https://weibo.com//u/5096972216   \n2               来自安徽              熊猫回血  https://weibo.com//u/7099909810   \n3               来自重庆           Cloud格子  https://weibo.com//u/6465346758   \n4               来自海南            芜湖挖藕藕也  https://weibo.com//u/6972726817   \n..               ...               ...                              ...   \n266             来自福建          一只小狗旺旺旺哈  https://weibo.com//u/7549868941   \n267             来自广西          mythcode  https://weibo.com//u/2697856215   \n268             来自广东             有意思XQ  https://weibo.com//u/6200840752   \n269             来自吉林            吉瑞铁937  https://weibo.com//u/6929601002   \n270             来自广西           花里胡哨热带鱼  https://weibo.com//u/5600505231   \n\n                                       comment_content  comment_like_num  \\\n0                       看来真的换人了。所以，发疯的那个才上了几天班？工资怎么结的？               936   \n1                         不是让消费者去boss找工作吗。我看你背刺消费者挺在行啊               501   \n2                                           被dis的不发疯了！               213   \n3    花西子，狗都不买<img alt=\"[笑cry]\" title=\"[笑cry]\" src=\"...               209   \n4    不好意思啊，在首页刷到你那条言之无物的声明了，特地进来骂一下你<img alt=\"[太开心]...               182   \n..                                                 ...               ...   \n266                                              眉笔80？                 0   \n267                                       刚刚到货，很好用（记得删                 1   \n268                                            花里胡哨的包装                 0   \n269                                                啊啊啊                 0   \n270                                    中国的丝绸之路关你日企什么事情                 2   \n\n     child_comment_num  value  symbolSize  \n0                   19    955       145.5  \n1                   22    523       102.3  \n2                    1    214        71.4  \n3                    4    213        71.3  \n4                    0    182        68.2  \n..                 ...    ...         ...  \n266                  0      0        50.0  \n267                  0      1        50.1  \n268                  0      0        50.0  \n269                  0      0        50.0  \n270                  0      2        50.2  \n\n[271 rows x 11 columns]",
      "text/html": "<div>\n<style scoped>\n    .dataframe tbody tr th:only-of-type {\n        vertical-align: middle;\n    }\n\n    .dataframe tbody tr th {\n        vertical-align: top;\n    }\n\n    .dataframe thead th {\n        text-align: right;\n    }\n</style>\n<table border=\"1\" class=\"dataframe\">\n  <thead>\n    <tr style=\"text-align: right;\">\n      <th></th>\n      <th>parent_comment_id</th>\n      <th>comment_id</th>\n      <th>comment_time</th>\n      <th>comment_location</th>\n      <th>comment_user_name</th>\n      <th>comment_user_link</th>\n      <th>comment_content</th>\n      <th>comment_like_num</th>\n      <th>child_comment_num</th>\n      <th>value</th>\n      <th>symbolSize</th>\n    </tr>\n  </thead>\n  <tbody>\n    <tr>\n      <th>0</th>\n      <td>NaN</td>\n      <td>c4952329327215306</td>\n      <td>2023-10-02 09:39:44</td>\n      <td>来自江西</td>\n      <td>古今惟一状元驸马郑颢</td>\n      <td>https://weibo.com//u/5356853777</td>\n      <td>看来真的换人了。所以，发疯的那个才上了几天班？工资怎么结的？</td>\n      <td>936</td>\n      <td>19</td>\n      <td>955</td>\n      <td>145.5</td>\n    </tr>\n    <tr>\n      <th>1</th>\n      <td>NaN</td>\n      <td>c4952377574295482</td>\n      <td>2023-10-02 12:51:27</td>\n      <td>来自新疆</td>\n      <td>苏下下喜欢吃青椒</td>\n      <td>https://weibo.com//u/5096972216</td>\n      <td>不是让消费者去boss找工作吗。我看你背刺消费者挺在行啊</td>\n      <td>501</td>\n      <td>22</td>\n      <td>523</td>\n      <td>102.3</td>\n    </tr>\n    <tr>\n      <th>2</th>\n      <td>NaN</td>\n      <td>c4952341042171844</td>\n      <td>2023-10-02 10:26:17</td>\n      <td>来自安徽</td>\n      <td>熊猫回血</td>\n      <td>https://weibo.com//u/7099909810</td>\n      <td>被dis的不发疯了！</td>\n      <td>213</td>\n      <td>1</td>\n      <td>214</td>\n      <td>71.4</td>\n    </tr>\n    <tr>\n      <th>3</th>\n      <td>NaN</td>\n      <td>c4952496412558463</td>\n      <td>2023-10-02 20:43:39</td>\n      <td>来自重庆</td>\n      <td>Cloud格子</td>\n      <td>https://weibo.com//u/6465346758</td>\n      <td>花西子，狗都不买&lt;img alt=\"[笑cry]\" title=\"[笑cry]\" src=\"...</td>\n      <td>209</td>\n      <td>4</td>\n      <td>213</td>\n      <td>71.3</td>\n    </tr>\n    <tr>\n      <th>4</th>\n      <td>NaN</td>\n      <td>c4952436315000296</td>\n      <td>2023-10-02 16:44:52</td>\n      <td>来自海南</td>\n      <td>芜湖挖藕藕也</td>\n      <td>https://weibo.com//u/6972726817</td>\n      <td>不好意思啊，在首页刷到你那条言之无物的声明了，特地进来骂一下你&lt;img alt=\"[太开心]...</td>\n      <td>182</td>\n      <td>0</td>\n      <td>182</td>\n      <td>68.2</td>\n    </tr>\n    <tr>\n      <th>...</th>\n      <td>...</td>\n      <td>...</td>\n      <td>...</td>\n      <td>...</td>\n      <td>...</td>\n      <td>...</td>\n      <td>...</td>\n      <td>...</td>\n      <td>...</td>\n      <td>...</td>\n      <td>...</td>\n    </tr>\n    <tr>\n      <th>266</th>\n      <td>NaN</td>\n      <td>c4953016727242525</td>\n      <td>2023-10-04 07:11:13</td>\n      <td>来自福建</td>\n      <td>一只小狗旺旺旺哈</td>\n      <td>https://weibo.com//u/7549868941</td>\n      <td>眉笔80？</td>\n      <td>0</td>\n      <td>0</td>\n      <td>0</td>\n      <td>50.0</td>\n    </tr>\n    <tr>\n      <th>267</th>\n      <td>NaN</td>\n      <td>c4952869214625706</td>\n      <td>2023-10-03 21:25:03</td>\n      <td>来自广西</td>\n      <td>mythcode</td>\n      <td>https://weibo.com//u/2697856215</td>\n      <td>刚刚到货，很好用（记得删</td>\n      <td>1</td>\n      <td>0</td>\n      <td>1</td>\n      <td>50.1</td>\n    </tr>\n    <tr>\n      <th>268</th>\n      <td>NaN</td>\n      <td>c4952758392717823</td>\n      <td>2023-10-03 14:04:40</td>\n      <td>来自广东</td>\n      <td>有意思XQ</td>\n      <td>https://weibo.com//u/6200840752</td>\n      <td>花里胡哨的包装</td>\n      <td>0</td>\n      <td>0</td>\n      <td>0</td>\n      <td>50.0</td>\n    </tr>\n    <tr>\n      <th>269</th>\n      <td>NaN</td>\n      <td>c4952719325401258</td>\n      <td>2023-10-03 11:29:27</td>\n      <td>来自吉林</td>\n      <td>吉瑞铁937</td>\n      <td>https://weibo.com//u/6929601002</td>\n      <td>啊啊啊</td>\n      <td>0</td>\n      <td>0</td>\n      <td>0</td>\n      <td>50.0</td>\n    </tr>\n    <tr>\n      <th>270</th>\n      <td>NaN</td>\n      <td>c4952696600921638</td>\n      <td>2023-10-03 09:59:09</td>\n      <td>来自广西</td>\n      <td>花里胡哨热带鱼</td>\n      <td>https://weibo.com//u/5600505231</td>\n      <td>中国的丝绸之路关你日企什么事情</td>\n      <td>2</td>\n      <td>0</td>\n      <td>2</td>\n      <td>50.2</td>\n    </tr>\n  </tbody>\n</table>\n<p>271 rows × 11 columns</p>\n</div>"
     },
     "execution_count": 70,
     "metadata": {},
     "output_type": "execute_result"
    }
   ],
   "source": [
    "data = pd.read_csv(\"/Users/kshao/Desktop/weibo-crawler-master/现在_NlX4qjroL.csv\")\n",
    "data['value'] = data['comment_like_num'] + data['child_comment_num']\n",
    "data['symbolSize'] = data['value'] / 10 + 50\n",
    "data"
   ],
   "metadata": {
    "collapsed": false
   }
  },
  {
   "cell_type": "code",
   "execution_count": 71,
   "outputs": [
    {
     "data": {
      "text/plain": "            comment_id  symbolSize  value\n0    c4952329327215306       145.5    955\n1    c4952377574295482       102.3    523\n2    c4952341042171844        71.4    214\n3    c4952496412558463        71.3    213\n4    c4952436315000296        68.2    182\n..                 ...         ...    ...\n266  c4953016727242525        50.0      0\n267  c4952869214625706        50.1      1\n268  c4952758392717823        50.0      0\n269  c4952719325401258        50.0      0\n270  c4952696600921638        50.2      2\n\n[271 rows x 3 columns]",
      "text/html": "<div>\n<style scoped>\n    .dataframe tbody tr th:only-of-type {\n        vertical-align: middle;\n    }\n\n    .dataframe tbody tr th {\n        vertical-align: top;\n    }\n\n    .dataframe thead th {\n        text-align: right;\n    }\n</style>\n<table border=\"1\" class=\"dataframe\">\n  <thead>\n    <tr style=\"text-align: right;\">\n      <th></th>\n      <th>comment_id</th>\n      <th>symbolSize</th>\n      <th>value</th>\n    </tr>\n  </thead>\n  <tbody>\n    <tr>\n      <th>0</th>\n      <td>c4952329327215306</td>\n      <td>145.5</td>\n      <td>955</td>\n    </tr>\n    <tr>\n      <th>1</th>\n      <td>c4952377574295482</td>\n      <td>102.3</td>\n      <td>523</td>\n    </tr>\n    <tr>\n      <th>2</th>\n      <td>c4952341042171844</td>\n      <td>71.4</td>\n      <td>214</td>\n    </tr>\n    <tr>\n      <th>3</th>\n      <td>c4952496412558463</td>\n      <td>71.3</td>\n      <td>213</td>\n    </tr>\n    <tr>\n      <th>4</th>\n      <td>c4952436315000296</td>\n      <td>68.2</td>\n      <td>182</td>\n    </tr>\n    <tr>\n      <th>...</th>\n      <td>...</td>\n      <td>...</td>\n      <td>...</td>\n    </tr>\n    <tr>\n      <th>266</th>\n      <td>c4953016727242525</td>\n      <td>50.0</td>\n      <td>0</td>\n    </tr>\n    <tr>\n      <th>267</th>\n      <td>c4952869214625706</td>\n      <td>50.1</td>\n      <td>1</td>\n    </tr>\n    <tr>\n      <th>268</th>\n      <td>c4952758392717823</td>\n      <td>50.0</td>\n      <td>0</td>\n    </tr>\n    <tr>\n      <th>269</th>\n      <td>c4952719325401258</td>\n      <td>50.0</td>\n      <td>0</td>\n    </tr>\n    <tr>\n      <th>270</th>\n      <td>c4952696600921638</td>\n      <td>50.2</td>\n      <td>2</td>\n    </tr>\n  </tbody>\n</table>\n<p>271 rows × 3 columns</p>\n</div>"
     },
     "execution_count": 71,
     "metadata": {},
     "output_type": "execute_result"
    }
   ],
   "source": [
    "data = data[['comment_id','symbolSize','value']]\n",
    "data"
   ],
   "metadata": {
    "collapsed": false
   }
  },
  {
   "cell_type": "code",
   "execution_count": 72,
   "outputs": [
    {
     "name": "stdout",
     "output_type": "stream",
     "text": [
      "[{'name': '花西子', 'symbolSize': 100, 'value': 0}, {'name': 'c4952329327215306', 'symbolSize': 145.5, 'value': 955}, {'name': 'c4952377574295482', 'symbolSize': 102.3, 'value': 523}, {'name': 'c4952341042171844', 'symbolSize': 71.4, 'value': 214}, {'name': 'c4952496412558463', 'symbolSize': 71.3, 'value': 213}, {'name': 'c4952436315000296', 'symbolSize': 68.2, 'value': 182}, {'name': 'c4954249730981965', 'symbolSize': 65.4, 'value': 154}, {'name': 'c4952329155512964', 'symbolSize': 59.8, 'value': 98}, {'name': 'c4952325405018715', 'symbolSize': 52.0, 'value': 20}, {'name': 'c4952330049160337', 'symbolSize': 51.6, 'value': 16}, {'name': 'c4952406820913972', 'symbolSize': 53.4, 'value': 34}, {'name': 'c4952324282516722', 'symbolSize': 53.5, 'value': 35}, {'name': 'c4954289199384564', 'symbolSize': 53.2, 'value': 32}, {'name': 'c4952424198705207', 'symbolSize': 50.3, 'value': 3}, {'name': 'c4952372037027371', 'symbolSize': 51.1, 'value': 11}, {'name': 'c4955235463465717', 'symbolSize': 50.1, 'value': 1}, {'name': 'c4952320325455735', 'symbolSize': 50.3, 'value': 3}, {'name': 'c4952457173534619', 'symbolSize': 50.2, 'value': 2}, {'name': 'c4952323854172298', 'symbolSize': 51.2, 'value': 12}, {'name': 'c4954323445880069', 'symbolSize': 51.5, 'value': 15}, {'name': 'c4952324046324119', 'symbolSize': 51.8, 'value': 18}, {'name': 'c4952335429926946', 'symbolSize': 50.1, 'value': 1}, {'name': 'c4955392343016350', 'symbolSize': 50.0, 'value': 0}, {'name': 'c4955308880824260', 'symbolSize': 50.0, 'value': 0}, {'name': 'c4955274303767411', 'symbolSize': 50.0, 'value': 0}, {'name': 'c4955249389077862', 'symbolSize': 50.0, 'value': 0}, {'name': 'c4954245800395465', 'symbolSize': 50.6, 'value': 6}, {'name': 'c4952924630024817', 'symbolSize': 50.0, 'value': 0}, {'name': 'c4952510143924511', 'symbolSize': 50.6, 'value': 6}, {'name': 'c4952423828557808', 'symbolSize': 50.0, 'value': 0}, {'name': 'c4952397094584977', 'symbolSize': 50.0, 'value': 0}, {'name': 'c4952363841618901', 'symbolSize': 50.0, 'value': 0}, {'name': 'c4952332762351038', 'symbolSize': 50.1, 'value': 1}, {'name': 'c4953637610850373', 'symbolSize': 50.2, 'value': 2}, {'name': 'c4954706629102258', 'symbolSize': 50.3, 'value': 3}, {'name': 'c4954332854224427', 'symbolSize': 51.2, 'value': 12}, {'name': 'c4954286079608673', 'symbolSize': 51.3, 'value': 13}, {'name': 'c4954269431628357', 'symbolSize': 50.2, 'value': 2}, {'name': 'c4955595300931413', 'symbolSize': 50.0, 'value': 0}, {'name': 'c4955590319146436', 'symbolSize': 50.0, 'value': 0}, {'name': 'c4955471972401755', 'symbolSize': 50.0, 'value': 0}, {'name': 'c4955454893983365', 'symbolSize': 50.0, 'value': 0}, {'name': 'c4955343635088396', 'symbolSize': 50.0, 'value': 0}, {'name': 'c4955328652771649', 'symbolSize': 50.0, 'value': 0}, {'name': 'c4955314997428969', 'symbolSize': 50.0, 'value': 0}, {'name': 'c4955313508451050', 'symbolSize': 50.0, 'value': 0}, {'name': 'c4955313490889491', 'symbolSize': 50.0, 'value': 0}, {'name': 'c4955295925929072', 'symbolSize': 50.0, 'value': 0}, {'name': 'c4955294712727198', 'symbolSize': 50.0, 'value': 0}, {'name': 'c4955293559291938', 'symbolSize': 50.0, 'value': 0}, {'name': 'c4955293504769477', 'symbolSize': 50.0, 'value': 0}, {'name': 'c4955284625164757', 'symbolSize': 50.0, 'value': 0}, {'name': 'c4955280557475924', 'symbolSize': 50.0, 'value': 0}, {'name': 'c4955261056845867', 'symbolSize': 50.0, 'value': 0}, {'name': 'c4955250663884111', 'symbolSize': 50.0, 'value': 0}, {'name': 'c4955247152988686', 'symbolSize': 50.0, 'value': 0}, {'name': 'c4954969758236986', 'symbolSize': 50.0, 'value': 0}, {'name': 'c4954524797372738', 'symbolSize': 50.0, 'value': 0}, {'name': 'c4954242302348200', 'symbolSize': 50.8, 'value': 8}, {'name': 'c4953496757208835', 'symbolSize': 50.0, 'value': 0}, {'name': 'c4953286416534884', 'symbolSize': 50.0, 'value': 0}, {'name': 'c4952880610284385', 'symbolSize': 50.1, 'value': 1}, {'name': 'c4952871899239374', 'symbolSize': 50.0, 'value': 0}, {'name': 'c4952803815457222', 'symbolSize': 50.2, 'value': 2}, {'name': 'c4952770463400132', 'symbolSize': 50.0, 'value': 0}, {'name': 'c4952700409352416', 'symbolSize': 50.0, 'value': 0}, {'name': 'c4952696614027859', 'symbolSize': 50.0, 'value': 0}, {'name': 'c4952541270116605', 'symbolSize': 50.0, 'value': 0}, {'name': 'c4952457212333691', 'symbolSize': 50.0, 'value': 0}, {'name': 'c4952457198961419', 'symbolSize': 50.0, 'value': 0}, {'name': 'c4952437381661101', 'symbolSize': 50.0, 'value': 0}, {'name': 'c4952435686376962', 'symbolSize': 50.0, 'value': 0}, {'name': 'c4952365805077848', 'symbolSize': 50.1, 'value': 1}, {'name': 'c4952358964693640', 'symbolSize': 50.0, 'value': 0}, {'name': 'c4952343232122066', 'symbolSize': 50.0, 'value': 0}, {'name': 'c4952332543723373', 'symbolSize': 50.0, 'value': 0}, {'name': 'c4952324277012126', 'symbolSize': 50.0, 'value': 0}, {'name': 'c4955062860252902', 'symbolSize': 50.2, 'value': 2}, {'name': 'c4954648933303532', 'symbolSize': 50.1, 'value': 1}, {'name': 'c4954254421002682', 'symbolSize': 50.5, 'value': 5}, {'name': 'c4954163324387912', 'symbolSize': 50.2, 'value': 2}, {'name': 'c4954031007203667', 'symbolSize': 50.1, 'value': 1}, {'name': 'c4953287083428899', 'symbolSize': 50.3, 'value': 3}, {'name': 'c4952924288715331', 'symbolSize': 50.4, 'value': 4}, {'name': 'c4952331423582691', 'symbolSize': 50.6, 'value': 6}, {'name': 'c4955655787775114', 'symbolSize': 50.0, 'value': 0}, {'name': 'c4954893686934780', 'symbolSize': 50.0, 'value': 0}, {'name': 'c4954706793207939', 'symbolSize': 50.0, 'value': 0}, {'name': 'c4954613456306736', 'symbolSize': 50.0, 'value': 0}, {'name': 'c4954553281417698', 'symbolSize': 50.2, 'value': 2}, {'name': 'c4954339410709702', 'symbolSize': 50.0, 'value': 0}, {'name': 'c4954339174253965', 'symbolSize': 50.0, 'value': 0}, {'name': 'c4954266585009944', 'symbolSize': 50.5, 'value': 5}, {'name': 'c4954266127566265', 'symbolSize': 50.1, 'value': 1}, {'name': 'c4954248179877446', 'symbolSize': 50.1, 'value': 1}, {'name': 'c4953126022418218', 'symbolSize': 50.6, 'value': 6}, {'name': 'c4952768396397159', 'symbolSize': 50.2, 'value': 2}, {'name': 'c4952532755680511', 'symbolSize': 50.5, 'value': 5}, {'name': 'c4952513764396836', 'symbolSize': 50.0, 'value': 0}, {'name': 'c4954307948448925', 'symbolSize': 50.2, 'value': 2}, {'name': 'c4953059693691883', 'symbolSize': 50.3, 'value': 3}, {'name': 'c4952525158750433', 'symbolSize': 50.3, 'value': 3}, {'name': 'c4952474059541427', 'symbolSize': 50.4, 'value': 4}, {'name': 'c4952452316529228', 'symbolSize': 50.2, 'value': 2}, {'name': 'c4952357857135824', 'symbolSize': 50.3, 'value': 3}, {'name': 'c4954929951933709', 'symbolSize': 50.3, 'value': 3}, {'name': 'c4954916402757791', 'symbolSize': 50.4, 'value': 4}, {'name': 'c4954657836239635', 'symbolSize': 50.3, 'value': 3}, {'name': 'c4954592242043221', 'symbolSize': 50.3, 'value': 3}, {'name': 'c4954558586423494', 'symbolSize': 50.2, 'value': 2}, {'name': 'c4954425064948193', 'symbolSize': 50.1, 'value': 1}, {'name': 'c4954348344051143', 'symbolSize': 50.1, 'value': 1}, {'name': 'c4954335681971358', 'symbolSize': 50.1, 'value': 1}, {'name': 'c4954333558871595', 'symbolSize': 50.1, 'value': 1}, {'name': 'c4954306493810968', 'symbolSize': 50.2, 'value': 2}, {'name': 'c4954281373862338', 'symbolSize': 50.2, 'value': 2}, {'name': 'c4954277283628097', 'symbolSize': 50.1, 'value': 1}, {'name': 'c4954260196819340', 'symbolSize': 50.2, 'value': 2}, {'name': 'c4954257738959767', 'symbolSize': 50.1, 'value': 1}, {'name': 'c4954248858044988', 'symbolSize': 50.2, 'value': 2}, {'name': 'c4954248703119824', 'symbolSize': 50.2, 'value': 2}, {'name': 'c4953768069435199', 'symbolSize': 50.1, 'value': 1}, {'name': 'c4953422224689260', 'symbolSize': 50.4, 'value': 4}, {'name': 'c4953108930627289', 'symbolSize': 50.1, 'value': 1}, {'name': 'c4952918500573900', 'symbolSize': 50.3, 'value': 3}, {'name': 'c4952887341091788', 'symbolSize': 50.5, 'value': 5}, {'name': 'c4952771343942041', 'symbolSize': 50.1, 'value': 1}, {'name': 'c4952760673633558', 'symbolSize': 50.1, 'value': 1}, {'name': 'c4952729174673347', 'symbolSize': 50.1, 'value': 1}, {'name': 'c4952665382978639', 'symbolSize': 50.3, 'value': 3}, {'name': 'c4952492410668884', 'symbolSize': 50.1, 'value': 1}, {'name': 'c4952426751988278', 'symbolSize': 50.1, 'value': 1}, {'name': 'c4952392191445767', 'symbolSize': 50.3, 'value': 3}, {'name': 'c4952329033091443', 'symbolSize': 50.4, 'value': 4}, {'name': 'c4955334230673266', 'symbolSize': 50.0, 'value': 0}, {'name': 'c4955096427266205', 'symbolSize': 50.0, 'value': 0}, {'name': 'c4955049010399247', 'symbolSize': 50.0, 'value': 0}, {'name': 'c4955039690129963', 'symbolSize': 50.0, 'value': 0}, {'name': 'c4954970631964024', 'symbolSize': 50.0, 'value': 0}, {'name': 'c4954959386247809', 'symbolSize': 50.0, 'value': 0}, {'name': 'c4954941682090423', 'symbolSize': 50.0, 'value': 0}, {'name': 'c4954890218505565', 'symbolSize': 50.0, 'value': 0}, {'name': 'c4954872999841144', 'symbolSize': 50.0, 'value': 0}, {'name': 'c4954853111234763', 'symbolSize': 50.0, 'value': 0}, {'name': 'c4954768041574587', 'symbolSize': 50.0, 'value': 0}, {'name': 'c4954706735009605', 'symbolSize': 50.0, 'value': 0}, {'name': 'c4954697486568129', 'symbolSize': 50.2, 'value': 2}, {'name': 'c4954696243478587', 'symbolSize': 50.1, 'value': 1}, {'name': 'c4954641952409499', 'symbolSize': 50.0, 'value': 0}, {'name': 'c4954637196593346', 'symbolSize': 50.1, 'value': 1}, {'name': 'c4954632579450808', 'symbolSize': 50.0, 'value': 0}, {'name': 'c4954589532521351', 'symbolSize': 50.0, 'value': 0}, {'name': 'c4954579714969598', 'symbolSize': 50.0, 'value': 0}, {'name': 'c4954566853397084', 'symbolSize': 50.1, 'value': 1}, {'name': 'c4954527700093266', 'symbolSize': 50.0, 'value': 0}, {'name': 'c4954522923306737', 'symbolSize': 50.0, 'value': 0}, {'name': 'c4954516506022201', 'symbolSize': 50.0, 'value': 0}, {'name': 'c4954511552283698', 'symbolSize': 50.0, 'value': 0}, {'name': 'c4954409379824504', 'symbolSize': 50.0, 'value': 0}, {'name': 'c4954386439865736', 'symbolSize': 50.0, 'value': 0}, {'name': 'c4954342198873832', 'symbolSize': 50.0, 'value': 0}, {'name': 'c4954328781557796', 'symbolSize': 50.0, 'value': 0}, {'name': 'c4954328681683048', 'symbolSize': 50.1, 'value': 1}, {'name': 'c4954321954016892', 'symbolSize': 50.0, 'value': 0}, {'name': 'c4954318321751280', 'symbolSize': 50.0, 'value': 0}, {'name': 'c4954315016377735', 'symbolSize': 50.0, 'value': 0}, {'name': 'c4954314914139158', 'symbolSize': 50.0, 'value': 0}, {'name': 'c4954297022811484', 'symbolSize': 50.0, 'value': 0}, {'name': 'c4954285428704586', 'symbolSize': 50.0, 'value': 0}, {'name': 'c4954280115046796', 'symbolSize': 50.0, 'value': 0}, {'name': 'c4954278973674842', 'symbolSize': 50.0, 'value': 0}, {'name': 'c4954268291304135', 'symbolSize': 50.0, 'value': 0}, {'name': 'c4954265774722530', 'symbolSize': 50.0, 'value': 0}, {'name': 'c4954263246079659', 'symbolSize': 50.1, 'value': 1}, {'name': 'c4954261664041371', 'symbolSize': 50.0, 'value': 0}, {'name': 'c4954259697960668', 'symbolSize': 50.0, 'value': 0}, {'name': 'c4954259635044469', 'symbolSize': 50.0, 'value': 0}, {'name': 'c4954257776970410', 'symbolSize': 50.0, 'value': 0}, {'name': 'c4954250637739075', 'symbolSize': 50.1, 'value': 1}, {'name': 'c4954250439558003', 'symbolSize': 50.0, 'value': 0}, {'name': 'c4954249634515222', 'symbolSize': 50.0, 'value': 0}, {'name': 'c4954248283948255', 'symbolSize': 50.0, 'value': 0}, {'name': 'c4954244400547946', 'symbolSize': 50.0, 'value': 0}, {'name': 'c4954243007774980', 'symbolSize': 50.0, 'value': 0}, {'name': 'c4954201446155917', 'symbolSize': 50.0, 'value': 0}, {'name': 'c4954029115311009', 'symbolSize': 50.0, 'value': 0}, {'name': 'c4953896784759513', 'symbolSize': 50.1, 'value': 1}, {'name': 'c4953824629623906', 'symbolSize': 50.0, 'value': 0}, {'name': 'c4953802005808044', 'symbolSize': 50.0, 'value': 0}, {'name': 'c4953670163104658', 'symbolSize': 50.0, 'value': 0}, {'name': 'c4953650336892541', 'symbolSize': 50.0, 'value': 0}, {'name': 'c4953553589502670', 'symbolSize': 50.0, 'value': 0}, {'name': 'c4953525455159730', 'symbolSize': 50.0, 'value': 0}, {'name': 'c4953525392770118', 'symbolSize': 50.0, 'value': 0}, {'name': 'c4953433361091137', 'symbolSize': 50.1, 'value': 1}, {'name': 'c4953416369178816', 'symbolSize': 50.0, 'value': 0}, {'name': 'c4953302992684098', 'symbolSize': 50.0, 'value': 0}, {'name': 'c4953256783774949', 'symbolSize': 50.0, 'value': 0}, {'name': 'c4953233035891794', 'symbolSize': 50.0, 'value': 0}, {'name': 'c4953207543959564', 'symbolSize': 50.0, 'value': 0}, {'name': 'c4953170046882165', 'symbolSize': 50.0, 'value': 0}, {'name': 'c4953151984634309', 'symbolSize': 50.0, 'value': 0}, {'name': 'c4952855432400423', 'symbolSize': 50.1, 'value': 1}, {'name': 'c4952843130509682', 'symbolSize': 50.0, 'value': 0}, {'name': 'c4952836900132305', 'symbolSize': 50.2, 'value': 2}, {'name': 'c4952831921752825', 'symbolSize': 50.1, 'value': 1}, {'name': 'c4952814439632182', 'symbolSize': 50.0, 'value': 0}, {'name': 'c4952776100282619', 'symbolSize': 50.0, 'value': 0}, {'name': 'c4952727664989338', 'symbolSize': 50.0, 'value': 0}, {'name': 'c4952693573158856', 'symbolSize': 50.0, 'value': 0}, {'name': 'c4952585423815010', 'symbolSize': 50.0, 'value': 0}, {'name': 'c4952565601535209', 'symbolSize': 50.0, 'value': 0}, {'name': 'c4952554335897963', 'symbolSize': 50.0, 'value': 0}, {'name': 'c4952493573017214', 'symbolSize': 50.0, 'value': 0}, {'name': 'c4952433639559632', 'symbolSize': 50.0, 'value': 0}, {'name': 'c4952416464145431', 'symbolSize': 50.0, 'value': 0}, {'name': 'c4952414614978917', 'symbolSize': 50.0, 'value': 0}, {'name': 'c4952408754750415', 'symbolSize': 50.0, 'value': 0}, {'name': 'c4952394922460604', 'symbolSize': 50.1, 'value': 1}, {'name': 'c4952384461605310', 'symbolSize': 50.0, 'value': 0}, {'name': 'c4952371019387155', 'symbolSize': 50.0, 'value': 0}, {'name': 'c4952363373431354', 'symbolSize': 50.0, 'value': 0}, {'name': 'c4952360695628386', 'symbolSize': 50.0, 'value': 0}, {'name': 'c4952359546389621', 'symbolSize': 50.0, 'value': 0}, {'name': 'c4952327892503183', 'symbolSize': 50.0, 'value': 0}, {'name': 'c4952324613865797', 'symbolSize': 50.0, 'value': 0}, {'name': 'c4952322612922299', 'symbolSize': 50.0, 'value': 0}, {'name': 'c4952320754844247', 'symbolSize': 50.1, 'value': 1}, {'name': 'c4954578488920714', 'symbolSize': 50.0, 'value': 0}, {'name': 'c4953095538740383', 'symbolSize': 50.0, 'value': 0}, {'name': 'c4954220765906797', 'symbolSize': 50.2, 'value': 2}, {'name': 'c4953200157002256', 'symbolSize': 50.6, 'value': 6}, {'name': 'c4953148546614947', 'symbolSize': 50.2, 'value': 2}, {'name': 'c4953063505792999', 'symbolSize': 50.6, 'value': 6}, {'name': 'c4954352479111564', 'symbolSize': 50.1, 'value': 1}, {'name': 'c4954303565398160', 'symbolSize': 50.1, 'value': 1}, {'name': 'c4953167004960591', 'symbolSize': 50.1, 'value': 1}, {'name': 'c4953130157739395', 'symbolSize': 50.3, 'value': 3}, {'name': 'c4955643967701593', 'symbolSize': 50.0, 'value': 0}, {'name': 'c4955456956270694', 'symbolSize': 50.0, 'value': 0}, {'name': 'c4955439638514748', 'symbolSize': 50.0, 'value': 0}, {'name': 'c4955079508232450', 'symbolSize': 50.0, 'value': 0}, {'name': 'c4955013082777148', 'symbolSize': 50.0, 'value': 0}, {'name': 'c4954832948692985', 'symbolSize': 50.0, 'value': 0}, {'name': 'c4953947297810339', 'symbolSize': 50.0, 'value': 0}, {'name': 'c4953584230467674', 'symbolSize': 50.0, 'value': 0}, {'name': 'c4952676330375424', 'symbolSize': 50.0, 'value': 0}, {'name': 'c4952469676755845', 'symbolSize': 50.0, 'value': 0}, {'name': 'c4952463264714916', 'symbolSize': 50.0, 'value': 0}, {'name': 'c4952401629679876', 'symbolSize': 50.1, 'value': 1}, {'name': 'c4952398886603311', 'symbolSize': 50.0, 'value': 0}, {'name': 'c4952382628693941', 'symbolSize': 50.0, 'value': 0}, {'name': 'c4952374155149901', 'symbolSize': 50.0, 'value': 0}, {'name': 'c4952333542490945', 'symbolSize': 50.0, 'value': 0}, {'name': 'c4952322238057321', 'symbolSize': 50.3, 'value': 3}, {'name': 'c4955431828459115', 'symbolSize': 50.0, 'value': 0}, {'name': 'c4955431782845194', 'symbolSize': 50.0, 'value': 0}, {'name': 'c4955024827093284', 'symbolSize': 50.0, 'value': 0}, {'name': 'c4954654805590054', 'symbolSize': 50.0, 'value': 0}, {'name': 'c4954626534148310', 'symbolSize': 50.0, 'value': 0}, {'name': 'c4954583899312958', 'symbolSize': 50.1, 'value': 1}, {'name': 'c4954520894049256', 'symbolSize': 50.0, 'value': 0}, {'name': 'c4954334657516571', 'symbolSize': 50.3, 'value': 3}, {'name': 'c4954325945159007', 'symbolSize': 50.0, 'value': 0}, {'name': 'c4954310071290511', 'symbolSize': 50.1, 'value': 1}, {'name': 'c4954252176263167', 'symbolSize': 50.0, 'value': 0}, {'name': 'c4953454755450744', 'symbolSize': 50.0, 'value': 0}, {'name': 'c4953016727242525', 'symbolSize': 50.0, 'value': 0}, {'name': 'c4952869214625706', 'symbolSize': 50.1, 'value': 1}, {'name': 'c4952758392717823', 'symbolSize': 50.0, 'value': 0}, {'name': 'c4952719325401258', 'symbolSize': 50.0, 'value': 0}, {'name': 'c4952696600921638', 'symbolSize': 50.2, 'value': 2}]\n"
     ]
    },
    {
     "data": {
      "text/plain": "'/Users/kshao/Desktop/weibo-crawler-master/现在_显示关系说明的关系图.html'"
     },
     "execution_count": 72,
     "metadata": {},
     "output_type": "execute_result"
    }
   ],
   "source": [
    "from pyecharts import options as opts\n",
    "from pyecharts.charts import Graph\n",
    "import re\n",
    "from bs4 import BeautifulSoup\n",
    "\n",
    "nodes = [\n",
    "{\"name\":\"花西子\",\"symbolSize\":100,\"value\":0},]\n",
    "for val in list(data.values):\n",
    "\n",
    "    text = BeautifulSoup(str(val[0]),'html.parser').get_text()\n",
    "    cleaned_text = re.sub(r'[^\\w\\s]', '', text)\n",
    "    cleaned_text = re.sub(r'\\_', '', cleaned_text)\n",
    "    # 转换为小写\n",
    "    cleaned_text = cleaned_text.lower()\n",
    "    nodes.append({\n",
    "        \"name\": cleaned_text,\n",
    "        \"symbolSize\": val[1],\n",
    "        \"value\": val[2]\n",
    "    })\n",
    "print(nodes)\n",
    "target = [\n",
    "    {\"name\":\"花西子\",\"symbolSize\":100,\"value\":0}\n",
    "]\n",
    "links = []\n",
    "for i in target:\n",
    "    for j in nodes:\n",
    "        links.append({\"source\": i.get(\"name\"),\"target\": j.get(\"name\") ,\"val\": j.get(\"value\")})\n",
    "(\n",
    "    Graph()\n",
    "    .add(\n",
    "        \"\",\n",
    "        nodes,\n",
    "        links,\n",
    "        repulsion=10000,\n",
    "        # edge_label=opts.LabelOpts(\n",
    "        #     is_show=True,\n",
    "        #     position=\"middle\",\n",
    "        #     formatter=\"{b}，数值为{c}\", #设置关系说明\n",
    "        # )\n",
    "    )\n",
    "    .set_global_opts(title_opts=opts.TitleOpts(title=\"现在_微博关系说明的关系图\")).render(\"现在_显示关系说明的关系图.html\"))"
   ],
   "metadata": {
    "collapsed": false
   }
  },
  {
   "cell_type": "code",
   "execution_count": null,
   "outputs": [],
   "source": [],
   "metadata": {
    "collapsed": false
   }
  }
 ],
 "metadata": {
  "kernelspec": {
   "display_name": "Python 3",
   "language": "python",
   "name": "python3"
  },
  "language_info": {
   "codemirror_mode": {
    "name": "ipython",
    "version": 2
   },
   "file_extension": ".py",
   "mimetype": "text/x-python",
   "name": "python",
   "nbconvert_exporter": "python",
   "pygments_lexer": "ipython2",
   "version": "2.7.6"
  }
 },
 "nbformat": 4,
 "nbformat_minor": 0
}
