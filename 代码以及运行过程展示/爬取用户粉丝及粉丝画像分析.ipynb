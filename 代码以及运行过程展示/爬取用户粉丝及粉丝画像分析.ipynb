{
 "cells": [
  {
   "cell_type": "code",
   "execution_count": 1,
   "metadata": {
    "collapsed": true
   },
   "outputs": [
    {
     "name": "stderr",
     "output_type": "stream",
     "text": [
      "/Users/kshao/Desktop/weibo-crawler-master/venv/lib/python3.9/site-packages/urllib3/__init__.py:34: NotOpenSSLWarning: urllib3 v2.0 only supports OpenSSL 1.1.1+, currently the 'ssl' module is compiled with 'LibreSSL 2.8.3'. See: https://github.com/urllib3/urllib3/issues/3020\n",
      "  warnings.warn(\n"
     ]
    }
   ],
   "source": [
    "import json\n",
    "import requests\n",
    "import csv\n",
    "import time\n",
    "import math\n",
    "\n",
    "\n",
    "def get_html(url):\n",
    "    headers = {\n",
    "        \"User-Agent\": \"Mozilla/5.0 (Windows NT 10.0; Win64; x64) AppleWebKit/537.36 (KHTML, like Gecko) Chrome/89.0.4389.82 Safari/537.36\",\n",
    "        \"Referer\": \"https://weibo.com\"\n",
    "    }\n",
    "    cookies = {\n",
    "        \"cookie\": \"ALF=1728396867; SSOLoginState=1696860867; SUB=_2A25IIHqTDeRhGedI6VoW9izOyz6IHXVrXPJbrDV8PUNbmtANLU6skW9NV7BC10t2rZIsdV0fDG_sq8gATA1yzeBa; SUBP=0033WrSXqPxfM725Ws9jqgMF55529P9D9W5LrU8oUO9iquASxqQL_xpP5JpX5o275NHD95QpSozRS0qEeo5EWs4DqcjSIcHcIg4udc4rUNUNI7tt; cross_origin_proto=SSL; login_sid_t=6cc2e5108c4c2614207bdc2f97ae694e; Apache=9263942546116.729.1696860441184; SINAGLOBAL=9263942546116.729.1696860441184; ULV=1696860441187:1:1:1:9263942546116.729.1696860441184:; _s_tentry=weibo.com\"\n",
    "    }\n",
    "    response = requests.get(url, headers=headers, cookies=cookies)\n",
    "    time.sleep(5)   # 加上5s 的延时防止被反爬\n",
    "    return response.text\n",
    "\n",
    "\n",
    "def save_fans_data(data):\n",
    "    title = ['uid', 'id', 'screen_name', 'description', 'followers_count', 'friends_count', 'statuses_count',  'gender','province','city','location','description','star','svip','vvip','is_teenager','created_at']\n",
    "    with open(\"fans_data.csv\", \"a\", encoding=\"utf-8\", newline=\"\")as fi:\n",
    "        fi = csv.writer(fi)\n",
    "        fi.writerow([data[k] for k in title])\n",
    "\n",
    "\n",
    "def save_followers_data(data):\n",
    "    title = ['uid', 'id', 'screen_name', 'description', 'followers_count', 'friends_count', 'statuses_count',  'gender','province','city','location','description']\n",
    "    with open(\"followers_data.csv\", \"a\", encoding=\"utf-8\", newline=\"\")as fi:\n",
    "        fi = csv.writer(fi)\n",
    "        fi.writerow([data[k] for k in title])\n",
    "\n",
    "\n",
    "def get_fans_data(id):\n",
    "    # 先获取总的粉丝数量\n",
    "    url = \"https://www.weibo.com/ajax/friendships/friends?relate=fans&page={}&uid={}&type=all&newFollowerCount=0\"\n",
    "    html = get_html(url.format(1, id))\n",
    "    response = json.loads(html)\n",
    "    total_number = response['total_number']\n",
    "    # 然后依次爬取每一页的数据\n",
    "    for page in range(1, math.ceil(total_number/20) + 1):\n",
    "        html = get_html(url.format(page, id))\n",
    "        response = json.loads(html)\n",
    "        fans_list = response['users']\n",
    "        data = {}   # 创建一个字典存放数据\n",
    "        for fan in fans_list:\n",
    "            data['uid'] = id\n",
    "            data['id'] = fan['id']     # 用户id\n",
    "            data['screen_name'] = fan['screen_name']    # 用户昵称\n",
    "            data['description'] = fan['description']  # 个性签名\n",
    "            data['gender'] = fan['gender']  # 性别\n",
    "            data['followers_count'] = fan['followers_count']    # 粉丝的粉丝数量\n",
    "            data['friends_count'] = fan['friends_count']    # 粉丝的关注数量\n",
    "            data['statuses_count'] = fan['statuses_count']    # 粉丝的博文数量\n",
    "            data['province'] = fan['province'] # 关注的省份\n",
    "            data['city'] = fan['city'] # 粉丝的城市\n",
    "            data['location'] = fan['location'] # 粉丝的地点\n",
    "            data['description'] = fan['description'] # 粉丝的介绍\n",
    "            data['star'] = fan['star'] # 粉丝是否star\n",
    "            data['svip'] = fan['svip'] # 粉丝是否svip\n",
    "            data['vvip'] = fan['vvip'] # 粉丝是否vvip\n",
    "            data['created_at'] = fan['created_at'] # 粉丝创建时间\n",
    "            data['is_teenager'] = fan['is_teenager'] # 粉丝是否青少年\n",
    "            save_fans_data(data)\n",
    "\n",
    "\n",
    "def get_followers_data(id):\n",
    "    # 先获取总的关注的数量\n",
    "    url = \"https://www.weibo.com/ajax/friendships/friends?page={}&uid={}\"\n",
    "    html = get_html(url.format(1, id))\n",
    "    response = json.loads(html)\n",
    "    total_number = response['total_number']\n",
    "    # 然后依次爬取每一页的数据\n",
    "    for page in range(1, math.ceil(total_number / 20) + 1):\n",
    "        html = get_html(url.format(page, id))\n",
    "        response = json.loads(html)\n",
    "        fans_list = response['users']\n",
    "        data = {}  # 创建一个字典存放数据\n",
    "        for fan in fans_list:\n",
    "            data['uid'] = id\n",
    "            data['id'] = fan['id']  # 用户id\n",
    "            data['screen_name'] = fan['screen_name']  # 用户昵称\n",
    "            data['description'] = fan['description']  # 个性签名\n",
    "            data['gender'] = fan['gender']  # 性别\n",
    "            data['followers_count'] = fan['followers_count']  # 关注的粉丝数量\n",
    "            data['friends_count'] = fan['friends_count']  # 关注的关注数量\n",
    "            data['statuses_count'] = fan['statuses_count']  # 关注的博文数量\n",
    "            data['province'] = fan['province'] # 关注的省份\n",
    "            data['city'] = fan['city'] # 关注的城市\n",
    "            data['location'] = fan['location'] # 关注的地点\n",
    "            data['description'] = fan['description'] # 关注的介绍\n",
    "            data['description'] = fan['description'] # 关注的\n",
    "            save_followers_data(data)\n"
   ]
  },
  {
   "cell_type": "code",
   "execution_count": null,
   "outputs": [],
   "source": [
    "title = ['uid', 'id', 'screen_name', 'description', 'followers_count', 'friends_count', 'statuses_count',  'gender','province','city','location','description','star','svip','vvip','is_teenager','created_at']\n",
    "with open(\"fans_data.csv\", \"a\", encoding=\"utf-8\", newline=\"\",)as fi:\n",
    "    fi = csv.writer(fi)\n",
    "    fi.writerow(title)\n",
    "# uid = ['6336556296'] # 花西子user_id\n",
    "uid = ['1968758563'] # 李佳琦user_id\n",
    "for id in uid:\n",
    "    get_fans_data(id)\n",
    "    # get_followers_data(id)"
   ],
   "metadata": {
    "collapsed": false
   }
  },
  {
   "cell_type": "code",
   "execution_count": 2,
   "outputs": [],
   "source": [
    "import pandas as pd"
   ],
   "metadata": {
    "collapsed": false
   }
  },
  {
   "cell_type": "code",
   "execution_count": 8,
   "outputs": [
    {
     "data": {
      "text/plain": "          uid          id   screen_name        description  followers_count  \\\n0  6336556296  5558814762         白杨ice  真正的大师，永远怀着一颗学徒的心！              372   \n1  6336556296  6887738393       小呀嘛小阿傻啊                NaN               58   \n2  6336556296  5700669807    雷慕莉Lemonly              改变世界！             1055   \n3  6336556296  7782626257  用户7782626257                NaN                3   \n4  6336556296  7740105904  用户7740105904                NaN                0   \n\n   friends_count  statuses_count gender  province  city location  \\\n0             62              88      m        44     3    广东 深圳   \n1            297             506      f        11  1000       北京   \n2            132              12      m       400  1000       海外   \n3            123              24      f       100  1000       其他   \n4              4               0      m       100  1000       其他   \n\n       description.1  star  svip  vvip  is_teenager  \\\n0  真正的大师，永远怀着一颗学徒的心！     0     0     0            0   \n1                NaN     0     0     0            0   \n2              改变世界！     0     0     0            0   \n3                NaN     0     0     0            0   \n4                NaN     0     0     0            0   \n\n                       created_at  \n0  Mon Mar 16 19:40:43 +0800 2015  \n1  Sun Dec 16 20:09:49 +0800 2018  \n2  Wed Jan 11 18:36:54 +0800 2017  \n3  Mon Aug 15 15:58:14 +0800 2022  \n4  Fri Feb 04 19:06:39 +0800 2022  ",
      "text/html": "<div>\n<style scoped>\n    .dataframe tbody tr th:only-of-type {\n        vertical-align: middle;\n    }\n\n    .dataframe tbody tr th {\n        vertical-align: top;\n    }\n\n    .dataframe thead th {\n        text-align: right;\n    }\n</style>\n<table border=\"1\" class=\"dataframe\">\n  <thead>\n    <tr style=\"text-align: right;\">\n      <th></th>\n      <th>uid</th>\n      <th>id</th>\n      <th>screen_name</th>\n      <th>description</th>\n      <th>followers_count</th>\n      <th>friends_count</th>\n      <th>statuses_count</th>\n      <th>gender</th>\n      <th>province</th>\n      <th>city</th>\n      <th>location</th>\n      <th>description.1</th>\n      <th>star</th>\n      <th>svip</th>\n      <th>vvip</th>\n      <th>is_teenager</th>\n      <th>created_at</th>\n    </tr>\n  </thead>\n  <tbody>\n    <tr>\n      <th>0</th>\n      <td>6336556296</td>\n      <td>5558814762</td>\n      <td>白杨ice</td>\n      <td>真正的大师，永远怀着一颗学徒的心！</td>\n      <td>372</td>\n      <td>62</td>\n      <td>88</td>\n      <td>m</td>\n      <td>44</td>\n      <td>3</td>\n      <td>广东 深圳</td>\n      <td>真正的大师，永远怀着一颗学徒的心！</td>\n      <td>0</td>\n      <td>0</td>\n      <td>0</td>\n      <td>0</td>\n      <td>Mon Mar 16 19:40:43 +0800 2015</td>\n    </tr>\n    <tr>\n      <th>1</th>\n      <td>6336556296</td>\n      <td>6887738393</td>\n      <td>小呀嘛小阿傻啊</td>\n      <td>NaN</td>\n      <td>58</td>\n      <td>297</td>\n      <td>506</td>\n      <td>f</td>\n      <td>11</td>\n      <td>1000</td>\n      <td>北京</td>\n      <td>NaN</td>\n      <td>0</td>\n      <td>0</td>\n      <td>0</td>\n      <td>0</td>\n      <td>Sun Dec 16 20:09:49 +0800 2018</td>\n    </tr>\n    <tr>\n      <th>2</th>\n      <td>6336556296</td>\n      <td>5700669807</td>\n      <td>雷慕莉Lemonly</td>\n      <td>改变世界！</td>\n      <td>1055</td>\n      <td>132</td>\n      <td>12</td>\n      <td>m</td>\n      <td>400</td>\n      <td>1000</td>\n      <td>海外</td>\n      <td>改变世界！</td>\n      <td>0</td>\n      <td>0</td>\n      <td>0</td>\n      <td>0</td>\n      <td>Wed Jan 11 18:36:54 +0800 2017</td>\n    </tr>\n    <tr>\n      <th>3</th>\n      <td>6336556296</td>\n      <td>7782626257</td>\n      <td>用户7782626257</td>\n      <td>NaN</td>\n      <td>3</td>\n      <td>123</td>\n      <td>24</td>\n      <td>f</td>\n      <td>100</td>\n      <td>1000</td>\n      <td>其他</td>\n      <td>NaN</td>\n      <td>0</td>\n      <td>0</td>\n      <td>0</td>\n      <td>0</td>\n      <td>Mon Aug 15 15:58:14 +0800 2022</td>\n    </tr>\n    <tr>\n      <th>4</th>\n      <td>6336556296</td>\n      <td>7740105904</td>\n      <td>用户7740105904</td>\n      <td>NaN</td>\n      <td>0</td>\n      <td>4</td>\n      <td>0</td>\n      <td>m</td>\n      <td>100</td>\n      <td>1000</td>\n      <td>其他</td>\n      <td>NaN</td>\n      <td>0</td>\n      <td>0</td>\n      <td>0</td>\n      <td>0</td>\n      <td>Fri Feb 04 19:06:39 +0800 2022</td>\n    </tr>\n  </tbody>\n</table>\n</div>"
     },
     "execution_count": 8,
     "metadata": {},
     "output_type": "execute_result"
    }
   ],
   "source": [
    "hxz = pd.read_csv('./hxz_fans_data.csv')[:1000]\n",
    "hxz.head()"
   ],
   "metadata": {
    "collapsed": false
   }
  },
  {
   "cell_type": "code",
   "execution_count": 17,
   "outputs": [
    {
     "data": {
      "text/plain": "          uid          id   screen_name   description  followers_count  \\\n0  1968758563  7876903108  用户7876903108           NaN                0   \n1  1968758563  6189591152          芙蒽芬a           酷毙了                8   \n2  1968758563  7191840357        豆蹦儿821  恨每一个没有边界感的护士                5   \n3  1968758563  7659235547  用户7659235547           NaN                0   \n4  1968758563  7823756172        八八八岁ba           NaN                0   \n\n   friends_count  statuses_count gender  province  city location  \\\n0              0               0      f       100  1000       其他   \n1            379               7      f        36    11    江西 上饶   \n2            122              13      f       100  1000       其他   \n3             88               0      f        32     5    江苏 苏州   \n4             84               1      m        14  1000       山西   \n\n  description.1  star  svip  vvip  is_teenager                      created_at  \n0           NaN     0     0     0            0  Tue Oct 10 23:51:01 +0800 2023  \n1           酷毙了     0     0     0            0  Sat Apr 01 13:36:33 +0800 2017  \n2  恨每一个没有边界感的护士     0     0     0            0  Thu Jun 13 13:24:26 +0800 2019  \n3           NaN     0     0     0            0  Wed Jul 28 20:32:04 +0800 2021  \n4           NaN     0     0     0            0  Wed Mar 01 08:33:58 +0800 2023  ",
      "text/html": "<div>\n<style scoped>\n    .dataframe tbody tr th:only-of-type {\n        vertical-align: middle;\n    }\n\n    .dataframe tbody tr th {\n        vertical-align: top;\n    }\n\n    .dataframe thead th {\n        text-align: right;\n    }\n</style>\n<table border=\"1\" class=\"dataframe\">\n  <thead>\n    <tr style=\"text-align: right;\">\n      <th></th>\n      <th>uid</th>\n      <th>id</th>\n      <th>screen_name</th>\n      <th>description</th>\n      <th>followers_count</th>\n      <th>friends_count</th>\n      <th>statuses_count</th>\n      <th>gender</th>\n      <th>province</th>\n      <th>city</th>\n      <th>location</th>\n      <th>description.1</th>\n      <th>star</th>\n      <th>svip</th>\n      <th>vvip</th>\n      <th>is_teenager</th>\n      <th>created_at</th>\n    </tr>\n  </thead>\n  <tbody>\n    <tr>\n      <th>0</th>\n      <td>1968758563</td>\n      <td>7876903108</td>\n      <td>用户7876903108</td>\n      <td>NaN</td>\n      <td>0</td>\n      <td>0</td>\n      <td>0</td>\n      <td>f</td>\n      <td>100</td>\n      <td>1000</td>\n      <td>其他</td>\n      <td>NaN</td>\n      <td>0</td>\n      <td>0</td>\n      <td>0</td>\n      <td>0</td>\n      <td>Tue Oct 10 23:51:01 +0800 2023</td>\n    </tr>\n    <tr>\n      <th>1</th>\n      <td>1968758563</td>\n      <td>6189591152</td>\n      <td>芙蒽芬a</td>\n      <td>酷毙了</td>\n      <td>8</td>\n      <td>379</td>\n      <td>7</td>\n      <td>f</td>\n      <td>36</td>\n      <td>11</td>\n      <td>江西 上饶</td>\n      <td>酷毙了</td>\n      <td>0</td>\n      <td>0</td>\n      <td>0</td>\n      <td>0</td>\n      <td>Sat Apr 01 13:36:33 +0800 2017</td>\n    </tr>\n    <tr>\n      <th>2</th>\n      <td>1968758563</td>\n      <td>7191840357</td>\n      <td>豆蹦儿821</td>\n      <td>恨每一个没有边界感的护士</td>\n      <td>5</td>\n      <td>122</td>\n      <td>13</td>\n      <td>f</td>\n      <td>100</td>\n      <td>1000</td>\n      <td>其他</td>\n      <td>恨每一个没有边界感的护士</td>\n      <td>0</td>\n      <td>0</td>\n      <td>0</td>\n      <td>0</td>\n      <td>Thu Jun 13 13:24:26 +0800 2019</td>\n    </tr>\n    <tr>\n      <th>3</th>\n      <td>1968758563</td>\n      <td>7659235547</td>\n      <td>用户7659235547</td>\n      <td>NaN</td>\n      <td>0</td>\n      <td>88</td>\n      <td>0</td>\n      <td>f</td>\n      <td>32</td>\n      <td>5</td>\n      <td>江苏 苏州</td>\n      <td>NaN</td>\n      <td>0</td>\n      <td>0</td>\n      <td>0</td>\n      <td>0</td>\n      <td>Wed Jul 28 20:32:04 +0800 2021</td>\n    </tr>\n    <tr>\n      <th>4</th>\n      <td>1968758563</td>\n      <td>7823756172</td>\n      <td>八八八岁ba</td>\n      <td>NaN</td>\n      <td>0</td>\n      <td>84</td>\n      <td>1</td>\n      <td>m</td>\n      <td>14</td>\n      <td>1000</td>\n      <td>山西</td>\n      <td>NaN</td>\n      <td>0</td>\n      <td>0</td>\n      <td>0</td>\n      <td>0</td>\n      <td>Wed Mar 01 08:33:58 +0800 2023</td>\n    </tr>\n  </tbody>\n</table>\n</div>"
     },
     "execution_count": 17,
     "metadata": {},
     "output_type": "execute_result"
    }
   ],
   "source": [
    "ljq = pd.read_csv('./ljq_fans_data.csv')[:1000]\n",
    "ljq.head()"
   ],
   "metadata": {
    "collapsed": false
   }
  },
  {
   "cell_type": "code",
   "execution_count": 16,
   "outputs": [
    {
     "name": "stdout",
     "output_type": "stream",
     "text": [
      "f\n",
      "uid                708\n",
      "id                 708\n",
      "screen_name        708\n",
      "description        473\n",
      "followers_count    708\n",
      "friends_count      708\n",
      "statuses_count     708\n",
      "gender             708\n",
      "province           708\n",
      "city               708\n",
      "location           708\n",
      "description.1      473\n",
      "star               708\n",
      "svip               708\n",
      "vvip               708\n",
      "is_teenager        708\n",
      "created_at         708\n",
      "dtype: int64\n",
      "m\n",
      "uid                292\n",
      "id                 292\n",
      "screen_name        292\n",
      "description        101\n",
      "followers_count    292\n",
      "friends_count      292\n",
      "statuses_count     292\n",
      "gender             292\n",
      "province           292\n",
      "city               292\n",
      "location           292\n",
      "description.1      101\n",
      "star               292\n",
      "svip               292\n",
      "vvip               292\n",
      "is_teenager        292\n",
      "created_at         292\n",
      "dtype: int64\n"
     ]
    }
   ],
   "source": [
    "for name, group in hxz.groupby('gender'):\n",
    "    print(name)\n",
    "    print(group.count())"
   ],
   "metadata": {
    "collapsed": false
   }
  },
  {
   "cell_type": "code",
   "execution_count": 18,
   "outputs": [
    {
     "name": "stdout",
     "output_type": "stream",
     "text": [
      "f\n",
      "uid                813\n",
      "id                 813\n",
      "screen_name        813\n",
      "description        384\n",
      "followers_count    813\n",
      "friends_count      813\n",
      "statuses_count     813\n",
      "gender             813\n",
      "province           813\n",
      "city               813\n",
      "location           813\n",
      "description.1      384\n",
      "star               813\n",
      "svip               813\n",
      "vvip               813\n",
      "is_teenager        813\n",
      "created_at         813\n",
      "dtype: int64\n",
      "m\n",
      "uid                187\n",
      "id                 187\n",
      "screen_name        187\n",
      "description         44\n",
      "followers_count    187\n",
      "friends_count      187\n",
      "statuses_count     187\n",
      "gender             187\n",
      "province           187\n",
      "city               187\n",
      "location           187\n",
      "description.1       44\n",
      "star               187\n",
      "svip               187\n",
      "vvip               187\n",
      "is_teenager        187\n",
      "created_at         187\n",
      "dtype: int64\n"
     ]
    }
   ],
   "source": [
    "for name, group in ljq.groupby('gender'):\n",
    "    print(name)\n",
    "    print(group.count())"
   ],
   "metadata": {
    "collapsed": false
   }
  },
  {
   "cell_type": "code",
   "execution_count": 21,
   "outputs": [
    {
     "data": {
      "text/plain": "Index(['uid', 'id', 'screen_name', 'description', 'followers_count',\n       'friends_count', 'statuses_count', 'gender', 'province', 'city',\n       'location', 'description.1', 'star', 'svip', 'vvip', 'is_teenager',\n       'created_at'],\n      dtype='object')"
     },
     "execution_count": 21,
     "metadata": {},
     "output_type": "execute_result"
    }
   ],
   "source": [
    "hxz.columns"
   ],
   "metadata": {
    "collapsed": false
   }
  },
  {
   "cell_type": "code",
   "execution_count": 22,
   "outputs": [
    {
     "name": "stdout",
     "output_type": "stream",
     "text": [
      "930 70 0\n"
     ]
    }
   ],
   "source": [
    "# 男女比例\n",
    "normal = 0\n",
    "vip = 0\n",
    "star = 0\n",
    "for val in list(hxz.values):\n",
    "    if val[-5] == 1:\n",
    "        star += 1\n",
    "    elif val[-4] == 1 or val[-3] == 1:\n",
    "        vip += 1\n",
    "    else:\n",
    "        normal += 1\n",
    "print(normal,vip,star)"
   ],
   "metadata": {
    "collapsed": false
   }
  },
  {
   "cell_type": "code",
   "execution_count": 23,
   "outputs": [
    {
     "name": "stdout",
     "output_type": "stream",
     "text": [
      "974 26 0\n"
     ]
    }
   ],
   "source": [
    "# 男女比例\n",
    "normal = 0\n",
    "vip = 0\n",
    "star = 0\n",
    "for val in list(ljq.values):\n",
    "    if val[-5] == 1:\n",
    "        star += 1\n",
    "    elif val[-4] == 1 or val[-3] == 1:\n",
    "        vip += 1\n",
    "    else:\n",
    "        normal += 1\n",
    "print(normal,vip,star)"
   ],
   "metadata": {
    "collapsed": false
   }
  },
  {
   "cell_type": "code",
   "execution_count": 34,
   "outputs": [
    {
     "name": "stdout",
     "output_type": "stream",
     "text": [
      "{'广东': 52, '北京': 48, '海外': 25, '其他': 416, '江苏': 44, '四川': 31, '浙江': 35, '上海': 27, '江西': 12, '湖北': 20, '河南': 46, '湖南': 24, '辽宁': 11, '广西': 9, '山东': 49, '甘肃': 3, '安徽': 24, '重庆': 13, '河北': 21, '云南': 9, '香港': 3, '新疆': 7, '台湾': 1, '天津': 8, '内蒙古': 4, '贵州': 6, '吉林': 7, '青海': 2, '山西': 6, '黑龙江': 8, '海南': 1, '陕西': 13, '福建': 12, '澳门': 3}\n",
      "[{'name': '广东', 'type': 'bar', 'data': [52]}, {'name': '北京', 'type': 'bar', 'data': [48]}, {'name': '海外', 'type': 'bar', 'data': [25]}, {'name': '其他', 'type': 'bar', 'data': [416]}, {'name': '江苏', 'type': 'bar', 'data': [44]}, {'name': '四川', 'type': 'bar', 'data': [31]}, {'name': '浙江', 'type': 'bar', 'data': [35]}, {'name': '上海', 'type': 'bar', 'data': [27]}, {'name': '江西', 'type': 'bar', 'data': [12]}, {'name': '湖北', 'type': 'bar', 'data': [20]}, {'name': '河南', 'type': 'bar', 'data': [46]}, {'name': '湖南', 'type': 'bar', 'data': [24]}, {'name': '辽宁', 'type': 'bar', 'data': [11]}, {'name': '广西', 'type': 'bar', 'data': [9]}, {'name': '山东', 'type': 'bar', 'data': [49]}, {'name': '甘肃', 'type': 'bar', 'data': [3]}, {'name': '安徽', 'type': 'bar', 'data': [24]}, {'name': '重庆', 'type': 'bar', 'data': [13]}, {'name': '河北', 'type': 'bar', 'data': [21]}, {'name': '云南', 'type': 'bar', 'data': [9]}, {'name': '香港', 'type': 'bar', 'data': [3]}, {'name': '新疆', 'type': 'bar', 'data': [7]}, {'name': '台湾', 'type': 'bar', 'data': [1]}, {'name': '天津', 'type': 'bar', 'data': [8]}, {'name': '内蒙古', 'type': 'bar', 'data': [4]}, {'name': '贵州', 'type': 'bar', 'data': [6]}, {'name': '吉林', 'type': 'bar', 'data': [7]}, {'name': '青海', 'type': 'bar', 'data': [2]}, {'name': '山西', 'type': 'bar', 'data': [6]}, {'name': '黑龙江', 'type': 'bar', 'data': [8]}, {'name': '海南', 'type': 'bar', 'data': [1]}, {'name': '陕西', 'type': 'bar', 'data': [13]}, {'name': '福建', 'type': 'bar', 'data': [12]}, {'name': '澳门', 'type': 'bar', 'data': [3]}]\n"
     ]
    }
   ],
   "source": [
    "# 地区组成\n",
    "location = {}\n",
    "name_list = []\n",
    "for val in list(hxz.values):\n",
    "    tmp = val[-7].split(' ')[0]\n",
    "    if tmp not in location:\n",
    "        name_list.append(tmp)\n",
    "        location[tmp] = 1\n",
    "    else:\n",
    "        location[tmp] += 1\n",
    "res = []\n",
    "print(location)\n",
    "for name in location:\n",
    "    res.append({'name': name, 'type': 'bar','data': [location[name]]})\n",
    "print(res)"
   ],
   "metadata": {
    "collapsed": false,
    "pycharm": {
     "name": "#%%lo\n"
    }
   }
  },
  {
   "cell_type": "code",
   "execution_count": 35,
   "outputs": [
    {
     "name": "stdout",
     "output_type": "stream",
     "text": [
      "{'其他': 419, '江西': 11, '江苏': 31, '山西': 9, '陕西': 21, '四川': 41, '内蒙古': 11, '重庆': 13, '安徽': 27, '辽宁': 22, '山东': 46, '湖北': 20, '黑龙江': 5, '天津': 7, '河北': 18, '云南': 10, '广东': 49, '吉林': 14, '北京': 51, '海外': 28, '贵州': 12, '浙江': 35, '河南': 20, '上海': 18, '新疆': 2, '甘肃': 6, '福建': 10, '广西': 8, '澳门': 5, '海南': 3, '湖南': 17, '香港': 2, '青海': 4, '宁夏': 4, '台湾': 1}\n",
      "[{'name': '其他', 'type': 'bar', 'data': [419]}, {'name': '江西', 'type': 'bar', 'data': [11]}, {'name': '江苏', 'type': 'bar', 'data': [31]}, {'name': '山西', 'type': 'bar', 'data': [9]}, {'name': '陕西', 'type': 'bar', 'data': [21]}, {'name': '四川', 'type': 'bar', 'data': [41]}, {'name': '内蒙古', 'type': 'bar', 'data': [11]}, {'name': '重庆', 'type': 'bar', 'data': [13]}, {'name': '安徽', 'type': 'bar', 'data': [27]}, {'name': '辽宁', 'type': 'bar', 'data': [22]}, {'name': '山东', 'type': 'bar', 'data': [46]}, {'name': '湖北', 'type': 'bar', 'data': [20]}, {'name': '黑龙江', 'type': 'bar', 'data': [5]}, {'name': '天津', 'type': 'bar', 'data': [7]}, {'name': '河北', 'type': 'bar', 'data': [18]}, {'name': '云南', 'type': 'bar', 'data': [10]}, {'name': '广东', 'type': 'bar', 'data': [49]}, {'name': '吉林', 'type': 'bar', 'data': [14]}, {'name': '北京', 'type': 'bar', 'data': [51]}, {'name': '海外', 'type': 'bar', 'data': [28]}, {'name': '贵州', 'type': 'bar', 'data': [12]}, {'name': '浙江', 'type': 'bar', 'data': [35]}, {'name': '河南', 'type': 'bar', 'data': [20]}, {'name': '上海', 'type': 'bar', 'data': [18]}, {'name': '新疆', 'type': 'bar', 'data': [2]}, {'name': '甘肃', 'type': 'bar', 'data': [6]}, {'name': '福建', 'type': 'bar', 'data': [10]}, {'name': '广西', 'type': 'bar', 'data': [8]}, {'name': '澳门', 'type': 'bar', 'data': [5]}, {'name': '海南', 'type': 'bar', 'data': [3]}, {'name': '湖南', 'type': 'bar', 'data': [17]}, {'name': '香港', 'type': 'bar', 'data': [2]}, {'name': '青海', 'type': 'bar', 'data': [4]}, {'name': '宁夏', 'type': 'bar', 'data': [4]}, {'name': '台湾', 'type': 'bar', 'data': [1]}]\n"
     ]
    }
   ],
   "source": [
    "# 地区组成\n",
    "location = {}\n",
    "name_list = []\n",
    "for val in list(ljq.values):\n",
    "    tmp = val[-7].split(' ')[0]\n",
    "    if tmp not in location:\n",
    "        name_list.append(tmp)\n",
    "        location[tmp] = 1\n",
    "    else:\n",
    "        location[tmp] += 1\n",
    "res = []\n",
    "print(location)\n",
    "for name in location:\n",
    "    res.append({'name': name, 'type': 'bar','data': [location[name]]})\n",
    "print(res)"
   ],
   "metadata": {
    "collapsed": false
   }
  },
  {
   "cell_type": "code",
   "execution_count": 45,
   "outputs": [
    {
     "name": "stdout",
     "output_type": "stream",
     "text": [
      "1000\n",
      "0\n"
     ]
    }
   ],
   "source": [
    "# 注册时间组成\n",
    "year_1 = 0\n",
    "year_3 = 0\n",
    "year_5 = 0\n",
    "for val in list(ljq.values):\n",
    "    year = int(val[-1].split(' ')[-1])\n",
    "    diff = year - 2023\n",
    "    if diff <= 1:\n",
    "        year_1 += 1\n",
    "    if diff <= 3:\n",
    "        year_3 += 1\n",
    "    if diff >= 5:\n",
    "        year_5 += 1\n",
    "print(year_1)\n",
    "print(year_5)"
   ],
   "metadata": {
    "collapsed": false
   }
  },
  {
   "cell_type": "code",
   "execution_count": 46,
   "outputs": [
    {
     "name": "stdout",
     "output_type": "stream",
     "text": [
      "1000\n",
      "0\n"
     ]
    }
   ],
   "source": [
    "# 注册时间组成\n",
    "year_1 = 0\n",
    "year_3 = 0\n",
    "year_5 = 0\n",
    "for val in list(hxz.values):\n",
    "    year = int(val[-1].split(' ')[-1])\n",
    "    diff = year - 2023\n",
    "    if diff <= 1:\n",
    "        year_1 += 1\n",
    "    if diff <= 3:\n",
    "        year_3 += 1\n",
    "    if diff >= 5:\n",
    "        year_5 += 1\n",
    "print(year_1)\n",
    "print(year_5)"
   ],
   "metadata": {
    "collapsed": false
   }
  },
  {
   "cell_type": "code",
   "execution_count": 47,
   "outputs": [
    {
     "name": "stdout",
     "output_type": "stream",
     "text": [
      "0\n",
      "1000\n"
     ]
    }
   ],
   "source": [
    "# 是否青少年\n",
    "is_t = 0\n",
    "no_t = 0\n",
    "for val in list(hxz.values):\n",
    "    if val[-2] == 0:\n",
    "        no_t += 1\n",
    "    else:\n",
    "        is_t += 1\n",
    "print(is_t)\n",
    "print(no_t)"
   ],
   "metadata": {
    "collapsed": false
   }
  },
  {
   "cell_type": "code",
   "execution_count": 48,
   "outputs": [
    {
     "name": "stdout",
     "output_type": "stream",
     "text": [
      "0\n",
      "1000\n"
     ]
    }
   ],
   "source": [
    "# 是否青少年\n",
    "is_t = 0\n",
    "no_t = 0\n",
    "for val in list(ljq.values):\n",
    "    if val[-2] == 0:\n",
    "        no_t += 1\n",
    "    else:\n",
    "        is_t += 1\n",
    "print(is_t)\n",
    "print(no_t)"
   ],
   "metadata": {
    "collapsed": false
   }
  },
  {
   "cell_type": "code",
   "execution_count": 59,
   "outputs": [
    {
     "name": "stdout",
     "output_type": "stream",
     "text": [
      "422\n",
      "576\n",
      "2\n"
     ]
    }
   ],
   "source": [
    "# 活跃用户\n",
    "is_t = 0\n",
    "no_t = 0\n",
    "is_vip = 0\n",
    "for val in list(ljq.values):\n",
    "    if val[4] <20:\n",
    "        no_t += 1\n",
    "    elif val[4] < 10000:\n",
    "        is_t += 1\n",
    "    else:\n",
    "        is_vip += 1\n",
    "print(is_t)\n",
    "print(no_t)\n",
    "print(is_vip)"
   ],
   "metadata": {
    "collapsed": false
   }
  },
  {
   "cell_type": "code",
   "execution_count": 54,
   "outputs": [
    {
     "name": "stdout",
     "output_type": "stream",
     "text": [
      "487\n",
      "511\n",
      "2\n"
     ]
    }
   ],
   "source": [
    "# 粉丝数量是否大于20\n",
    "is_t = 0\n",
    "no_t = 0\n",
    "is_vip = 0\n",
    "for val in list(hxz.values):\n",
    "    if val[4] <20:\n",
    "        no_t += 1\n",
    "    elif val[4] < 10000:\n",
    "        is_t += 1\n",
    "    else:\n",
    "        is_vip += 1\n",
    "print(is_t)\n",
    "print(no_t)\n",
    "print(is_vip)"
   ],
   "metadata": {
    "collapsed": false
   }
  },
  {
   "cell_type": "code",
   "execution_count": null,
   "outputs": [],
   "source": [],
   "metadata": {
    "collapsed": false
   }
  }
 ],
 "metadata": {
  "kernelspec": {
   "display_name": "Python 3",
   "language": "python",
   "name": "python3"
  },
  "language_info": {
   "codemirror_mode": {
    "name": "ipython",
    "version": 2
   },
   "file_extension": ".py",
   "mimetype": "text/x-python",
   "name": "python",
   "nbconvert_exporter": "python",
   "pygments_lexer": "ipython2",
   "version": "2.7.6"
  }
 },
 "nbformat": 4,
 "nbformat_minor": 0
}
